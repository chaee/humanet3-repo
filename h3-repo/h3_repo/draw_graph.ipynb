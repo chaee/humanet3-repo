{
 "cells": [
  {
   "cell_type": "code",
   "execution_count": 10,
   "metadata": {},
   "outputs": [],
   "source": [
    "import os\n",
    "import networkx as nx\n",
    "import json\n",
    "import plotly.graph_objects as go\n",
    "import webbrowser"
   ]
  },
  {
   "cell_type": "code",
   "execution_count": null,
   "metadata": {},
   "outputs": [],
   "source": [
    "def draw_interactive_graph():\n",
    "    script_dir = os.getcwd()\n",
    "    graph_dir = os.path.join(script_dir, 'children_data') \n",
    "    output_dir = os.path.join(script_dir, 'graph')\n",
    "\n",
    "    if not os.path.exists(graph_dir):\n",
    "        os.makedirs(graph_dir)\n",
    "\n",
    "    for folder in os.listdir(graph_dir):\n",
    "        folder_path = os.path.join(graph_dir, folder)\n",
    "        if os.path.isdir(folder_path):\n",
    "            # creating graph\n",
    "            G = nx.DiGraph()\n",
    "            parent = folder\n",
    "            G.add_node(parent)\n",
    "            for file in os.listdir(f'{graph_dir}/{folder}'):\n",
    "                first_child = file.split('.')[0]\n",
    "                G.add_node(first_child)\n",
    "                G.add_edge(parent, first_child)\n",
    "                with open(f'{graph_dir}/{folder}/{file}', 'r') as f:\n",
    "                    if not file.endswith('_error.json'):\n",
    "                        children = json.load(f)\n",
    "                        if children:\n",
    "                            for child in children:\n",
    "                                if type(child) == str:\n",
    "                                    print(children)\n",
    "                                for celex_num, url in child.items():\n",
    "                                    G.add_node(celex_num)\n",
    "                                    G.add_edge(first_child, celex_num)\n",
    "\n",
    "            pos = nx.spring_layout(G)\n",
    "            for node in G.nodes():\n",
    "                G.nodes[node]['pos'] = list(pos[node])\n",
    "\n",
    "            edge_x = []\n",
    "            edge_y = []\n",
    "            for edge in G.edges():\n",
    "                x0, y0 = G.nodes[edge[0]]['pos']\n",
    "                x1, y1 = G.nodes[edge[1]]['pos']\n",
    "                edge_x.append(x0)\n",
    "                edge_x.append(x1)\n",
    "                edge_x.append(None)\n",
    "                edge_y.append(y0)\n",
    "                edge_y.append(y1)\n",
    "                edge_y.append(None)\n",
    "\n",
    "            edge_trace = go.Scatter(\n",
    "                x=edge_x, y=edge_y,\n",
    "                line=dict(width=0.5, color='#888'),\n",
    "                hoverinfo='none',\n",
    "                mode='lines')\n",
    "\n",
    "            node_x = []\n",
    "            node_y = []\n",
    "            for node in G.nodes():\n",
    "                x, y = G.nodes[node]['pos']\n",
    "                node_x.append(x)\n",
    "                node_y.append(y)\n",
    "\n",
    "            node_trace = go.Scatter(\n",
    "                x=node_x, y=node_y,\n",
    "                mode='markers+text',\n",
    "                text=[node for node in G.nodes()],\n",
    "                textposition=\"top center\",\n",
    "                hoverinfo='text',\n",
    "                marker=dict(\n",
    "                    showscale=True,\n",
    "                    colorscale='YlGnBu',\n",
    "                    size=10,\n",
    "                    colorbar=dict(\n",
    "                        thickness=15,\n",
    "                        title='Node Connections',\n",
    "                        xanchor='left',\n",
    "                        # titleside='right'\n",
    "                    ),\n",
    "                    line_width=2))\n",
    "\n",
    "            fig = go.Figure(data=[edge_trace, node_trace],\n",
    "                            layout=go.Layout(\n",
    "                                title=f'Interactive Graph for {parent}',\n",
    "                                # titlefont_size=16,\n",
    "                                showlegend=False,\n",
    "                                hovermode='closest',\n",
    "                                margin=dict(b=20, l=5, r=5, t=40),\n",
    "                                annotations=[dict(\n",
    "                                    text=\"Interactive Graph\",\n",
    "                                    showarrow=False,\n",
    "                                    xref=\"paper\", yref=\"paper\",\n",
    "                                    x=0.005, y=-0.002)],\n",
    "                                xaxis=dict(showgrid=False, zeroline=False),\n",
    "                                yaxis=dict(showgrid=False, zeroline=False))\n",
    "                            )\n",
    "\n",
    "        if not os.path.exists(output_dir):\n",
    "            os.makedirs(output_dir)\n",
    "        output_path = os.path.join(output_dir, f'{parent}_interactive.html')\n",
    "        fig.write_html(output_path)\n",
    "        print(f'Interactive graph for {parent} created successfully!')\n",
    "        webbrowser.open(f'file://{output_path}')\n"
   ]
  },
  {
   "cell_type": "code",
   "execution_count": 40,
   "metadata": {},
   "outputs": [
    {
     "name": "stdout",
     "output_type": "stream",
     "text": [
      "['./../../../../legal-content/EN/AUTO/?uri=OJ:L:2015:123:TOC', './../../../../legal-content/EN/AUTO/?uri=OJ:L:2013:348:TOC']\n"
     ]
    },
    {
     "ename": "AttributeError",
     "evalue": "'str' object has no attribute 'items'",
     "output_type": "error",
     "traceback": [
      "\u001b[0;31m---------------------------------------------------------------------------\u001b[0m",
      "\u001b[0;31mAttributeError\u001b[0m                            Traceback (most recent call last)",
      "Cell \u001b[0;32mIn[40], line 1\u001b[0m\n\u001b[0;32m----> 1\u001b[0m \u001b[43mdraw_interactive_graph\u001b[49m\u001b[43m(\u001b[49m\u001b[43m)\u001b[49m\n",
      "Cell \u001b[0;32mIn[38], line 27\u001b[0m, in \u001b[0;36mdraw_interactive_graph\u001b[0;34m()\u001b[0m\n\u001b[1;32m     25\u001b[0m \u001b[38;5;28;01mif\u001b[39;00m \u001b[38;5;28mtype\u001b[39m(child) \u001b[38;5;241m==\u001b[39m \u001b[38;5;28mstr\u001b[39m:\n\u001b[1;32m     26\u001b[0m     \u001b[38;5;28mprint\u001b[39m(children)\n\u001b[0;32m---> 27\u001b[0m \u001b[38;5;28;01mfor\u001b[39;00m celex_num, url \u001b[38;5;129;01min\u001b[39;00m \u001b[43mchild\u001b[49m\u001b[38;5;241;43m.\u001b[39;49m\u001b[43mitems\u001b[49m():\n\u001b[1;32m     28\u001b[0m     G\u001b[38;5;241m.\u001b[39madd_node(celex_num)\n\u001b[1;32m     29\u001b[0m     G\u001b[38;5;241m.\u001b[39madd_edge(first_child, celex_num)\n",
      "\u001b[0;31mAttributeError\u001b[0m: 'str' object has no attribute 'items'"
     ]
    }
   ],
   "source": [
    "draw_interactive_graph()"
   ]
  }
 ],
 "metadata": {
  "kernelspec": {
   "display_name": "h3-repo-g9SlJlo--py3.12",
   "language": "python",
   "name": "python3"
  },
  "language_info": {
   "codemirror_mode": {
    "name": "ipython",
    "version": 3
   },
   "file_extension": ".py",
   "mimetype": "text/x-python",
   "name": "python",
   "nbconvert_exporter": "python",
   "pygments_lexer": "ipython3",
   "version": "3.12.5"
  }
 },
 "nbformat": 4,
 "nbformat_minor": 2
}
